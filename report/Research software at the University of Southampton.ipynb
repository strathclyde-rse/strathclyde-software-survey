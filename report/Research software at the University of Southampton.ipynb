{
 "cells": [
  {
   "cell_type": "markdown",
   "metadata": {},
   "source": [
    "# Introduction"
   ]
  },
  {
   "cell_type": "markdown",
   "metadata": {},
   "source": [
    "Most research would not be possible without software. It is the enabling technology behind major advances, from decoding the human genome to the discovery of the Higgs boson, it lies at the heart of strategically important technologies, such as artificial intelligence, and it is a tool of constant use and fundamental importance in day-to-day research. Despite its pivotal role, support for software and software skills within academia has not kept pace with the rapid adoption of software as a research tool. This is a major barrier that inhibits research and puts results at risk.\n",
    "\n",
    "A 2014 study [1] found that 92% of UK researchers use software and 69% report that it is fundamental to their research. It is not possible to disentangle the reliability of the software used to generate results from the reliability of the research itself. Unreliable software leads to unreliable results that cannot be trusted. Trust cannot be established in poorly engineered software, because it is too difficult to understand whether the software is reliable. Without trust, researchers will not build on existing software and will instead recreate it themselves: an avoidable duplication of effort and a waste of resources.\n",
    "\n",
    "In 2019, the Southampton Research Software Group [2] conducted a survey of research staff to identify the relationship between software and research at the University of Southampton. Software use is near ubiquitous across all but one faculty, researchers report that software is vital to their work, a third of researchers develop their own software, and around a third who develop software are interested in commercialisation. Worryingly, around two thirds of staff who develop software do not believe they have had sufficient training to develop reliable software.\n",
    "\n",
    "Software has an almost unparalleled power to advance research and enterprise. Much of this potential is likely to remain unrealised at the University, unless researchers are given access to the necessary software skills and expertise."
   ]
  },
  {
   "cell_type": "markdown",
   "metadata": {},
   "source": [
    "# Major findings"
   ]
  },
  {
   "cell_type": "markdown",
   "metadata": {},
   "source": [
    "### Of researchers at the University of Southampton:\n",
    "\n",
    "1. 95% use software in the generation of results they expect to appear in a publication.\n",
    "1. 73% report software as \"vital\" to their research.\n",
    "1. 33% develop their own software and, worryingly, of these software developers 64% do not believe they have received sufficient training to develop reliable software.\n",
    "1. 47% expected to develop software as part of a funding proposal, but despite this fact, less than half of these included costs for software development in the proposal.\n",
    "1. 67% report that hiring a Research Software Engineer from a central pool would be a suitable or perfect way of recruiting software expertise into their group.\n"
   ]
  },
  {
   "cell_type": "markdown",
   "metadata": {},
   "source": [
    "## Methodology"
   ]
  },
  {
   "cell_type": "markdown",
   "metadata": {},
   "source": [
    "The survey was sent to all research staff via an email invitation to the mailing lists for all staff employed on an ERE (Education, Research and Enterprise) contract and all PhD students. The emails were sent on a faculty-by-faculty basis with the following response rate:"
   ]
  },
  {
   "cell_type": "markdown",
   "metadata": {},
   "source": [
    "![caption](charts/faculty_normalised.png)"
   ]
  },
  {
   "cell_type": "markdown",
   "metadata": {},
   "source": [
    "The survey asked 16 questions about the researcher and their use of software. It received 594 usable results which are included in this analysis.\n",
    "\n",
    "The appendices to this report include information about the number of responses to each question (not all were mandatory), and further information about the respondents such as the respondents' job titles and funders."
   ]
  },
  {
   "cell_type": "markdown",
   "metadata": {},
   "source": [
    "## Reproducibility, licences and citation"
   ]
  },
  {
   "cell_type": "markdown",
   "metadata": {},
   "source": [
    "All resources related to this survey are stored on Github and freely accessible to anyone. The repository [3] contains:\n",
    "\n",
    "1. A pdf of the original survey\n",
    "1. The anonymised data collected by the survey\n",
    "1. The code used to analyse the software\n",
    "1. This report on the results of the analysis\n",
    "\n",
    "The above have all been published under an open licence (BSD 3-clause for the code, CC by attribution for the survey and the data).\n",
    "\n",
    "If you reproduce any of the results of text from this study, please cite:\n",
    "* Brown A, Graham J, Grylls P, Hettrick SJ, Mangham S.W., Robinson J & Wyatt C. \"Research software at the University of Southampton\". 6 December 2019."
   ]
  },
  {
   "cell_type": "markdown",
   "metadata": {},
   "source": [
    "# What is research software?"
   ]
  },
  {
   "cell_type": "markdown",
   "metadata": {},
   "source": [
    "\"Software\" is an umbrella term that disguises a huge amount of complexity and variance. The applications for software are equally complex, from innovations in algorithms to an online service, from the control of a genome sequencer to the analysis of electronic health records, and each is associated with its own particular development requirements. In this survey, we defined \"research software\" as:\n",
    "\n",
    ">\"any software you have used in the generation of a result that you expect to appear in a publication. This might be anything from a few-line script to clean some data, to a fully fledged software suite. It includes code you have written yourself and code written by someone else.\""
   ]
  },
  {
   "cell_type": "markdown",
   "metadata": {},
   "source": [
    "# Use of software and importance to research"
   ]
  },
  {
   "cell_type": "markdown",
   "metadata": {},
   "source": [
    "![caption](charts/use_software.png)"
   ]
  },
  {
   "cell_type": "markdown",
   "metadata": {},
   "source": [
    "The vast majority of researchers at the University use research software. Only 5% report that they do not, but even this small number seems too large. More insight is gained if we segment the data across faculties."
   ]
  },
  {
   "cell_type": "markdown",
   "metadata": {},
   "source": [
    "![caption](charts/summary_of_1_use_software_faculty.png)"
   ]
  },
  {
   "cell_type": "markdown",
   "metadata": {},
   "source": [
    "In Engineering & Physical Sciences, Environmental & Life Sciences and Medicine, the use of software is near 100%. Software use drops slightly in Social Sciences - but it is still above 90%. In Arts and Humanities only 67% report using software in their research, which is understandable in this discipline, although it is noted that humanities researchers rely heavily on software. The mean percentage of researchers who use software in their research across the university, neglecting the contribution from Arts & Humanities, is 97%."
   ]
  },
  {
   "cell_type": "markdown",
   "metadata": {},
   "source": [
    "Use of software provides insight into its prevalence, but only hints at its importance to research. To investigate this issue further we asked researchers to rate how important research software was to their research (in which a rating of 1 was \"not at all\" important and a 5 was \"vital\")."
   ]
  },
  {
   "cell_type": "markdown",
   "metadata": {},
   "source": [
    "![caption](charts/importance_software.png)"
   ]
  },
  {
   "cell_type": "markdown",
   "metadata": {},
   "source": [
    "Software is of fundamental importance to the research conducted at the University of Southampton: 95% of researchers use software and 73% state that it is vital to their research."
   ]
  },
  {
   "cell_type": "markdown",
   "metadata": {},
   "source": [
    "![caption](charts/develop_own_code.png)"
   ]
  },
  {
   "cell_type": "markdown",
   "metadata": {},
   "source": [
    "Around a third of researchers at the University develop their own software. This is not surprising: the specific problems faced in research tend to require bespoke solutions. However, the number of researchers who develop their own software varies widely across faculties.\n"
   ]
  },
  {
   "cell_type": "markdown",
   "metadata": {},
   "source": [
    "![caption](charts/summary_of_1_develop_own_code_faculty.png)"
   ]
  },
  {
   "cell_type": "markdown",
   "metadata": {},
   "source": [
    "Engineering & Physical Sciences, Environmental & Life Sciences, Medicine and Social Sciences report similar levels of *software use*, but researchers within Engineering & Physical Sciences are far more likely - over double - to write their own code. It seems unlikely that Engineering & Physical Sciences researchers are facing challenges that require significantly more bespoke software development than researchers from other faculties. It is a generally held opinion that researchers from EPS background are more likely to have experienced training in programming at some point in their education. If this is true, and further investigation is required, then this may explain why EPS researchers are more likely to develop their own software. Whatever the cause, there lies in this result a huge opportunity. training researchers from faculties that present high software use and low software development could have a significant effect on their speed, scale and reliability of their research."
   ]
  },
  {
   "cell_type": "markdown",
   "metadata": {},
   "source": [
    "# Potential for commercialising software"
   ]
  },
  {
   "cell_type": "markdown",
   "metadata": {},
   "source": [
    "![caption](charts/want_to_commercialise.png)"
   ]
  },
  {
   "cell_type": "markdown",
   "metadata": {},
   "source": [
    "A third of respondents who develop their own code are interested in commercialising their software. Extrapolating this result over the University suggests that almost 700 people could have software that they would like to commercialise. With such a large number of potential software to draw from, there would appear to be significant potential for successful commercialisation."
   ]
  },
  {
   "cell_type": "markdown",
   "metadata": {},
   "source": [
    "![caption](charts/ready_to_share.png)"
   ]
  },
  {
   "cell_type": "markdown",
   "metadata": {},
   "source": [
    "75% of people who wish to commercialise their code do not feel it is ready to share with a commercial partner, which is a strong indicator that this software is unfit for commercialisation in its current state. Regardless of the commercial promise of the concept behind the software, commercial success can only be achieved if the software is robust and reliable. Providing access to software engineering skills could create a significant number of opportunities to commercialise software developed at the University."
   ]
  },
  {
   "cell_type": "markdown",
   "metadata": {},
   "source": [
    "# Do researchers have access to the software expertise they need?"
   ]
  },
  {
   "cell_type": "markdown",
   "metadata": {},
   "source": [
    "![caption](charts/development_expertise.png)"
   ]
  },
  {
   "cell_type": "markdown",
   "metadata": {},
   "source": [
    "Researchers who develop software were asked to judge their software-development expertise on a scale from 1 (described as a \"beginner\") to 5 (described as a \"professional\"). The majority response (35%) was recorded in the 4 out of 5 category. 15% of staff described their expertise as \"professional\", and only 18% judged themselves as having poorer than average software-development expertise. At first sight, this result is grounds for some optimism. However, judging one's own expertise can be highly subjective. We investigated further with questions on training and on the understanding of a few basic software-engineering techniques."
   ]
  },
  {
   "cell_type": "markdown",
   "metadata": {},
   "source": [
    "![caption](charts/training.png)"
   ]
  },
  {
   "cell_type": "markdown",
   "metadata": {},
   "source": [
    "Almost two-thirds of researchers who develop software do not believe that they have received the training needed to produce reliable software. This raises concerns about the publications based on results generated by homegrown software. This question also raises doubts about the level of development expertise recorded in the previous question, e.g. a third of researchers who evaluated their development expertise at the \"professional\" level reported that they had not received sufficient training to develop reliable software.\n",
    "\n",
    "To remove some of the subjectiveness from the development-expertise question, we asked further questions about three of the most basic software-engineering techniques: version control, unit testing and continuous integration. Any software engineer would be confident with these techniques."
   ]
  },
  {
   "cell_type": "markdown",
   "metadata": {},
   "source": [
    "![caption](charts/version_control.png)"
   ]
  },
  {
   "cell_type": "markdown",
   "metadata": {},
   "source": [
    "![caption](charts/unit_testing.png)"
   ]
  },
  {
   "cell_type": "markdown",
   "metadata": {},
   "source": [
    "![caption](charts/continuous_integration.png)"
   ]
  },
  {
   "cell_type": "markdown",
   "metadata": {},
   "source": [
    "Version control is certainly the most well-known technique, with a majority of researchers reporting that they are confident or very confident with the technique. Yet one in ten of the researchers who develop code have not heard of this most basic software-engineering technique. As we move to more advanced (yet still basic) tools, confidence levels drop with only a quarter of staff confident with unit testing and the majority of staff not having even heard of continuous integration. In conclusion, despite the reasonably high level of self-assessed software development expertise, it seems reasonable to state that a significant number of researchers who develop their own software lack the skills to do so reliably."
   ]
  },
  {
   "cell_type": "markdown",
   "metadata": {},
   "source": [
    "# Access to software-engineering expertise"
   ]
  },
  {
   "cell_type": "markdown",
   "metadata": {},
   "source": [
    "Research groups relies on a broad range of skills, many of which researches have to acquire themselves through training - where it exists - or through trial and error. It is simply not possible for all researchers to master of all the skills needed in modern research. The obvious solution is to recruit the skills needed from an expert. To investigate this phenomenon, we asked whether researchers had included costs for software development in their funding proposals and whether they had hired staff to develop software for them."
   ]
  },
  {
   "cell_type": "markdown",
   "metadata": {},
   "source": [
    "![caption](charts/funds_for_development.png)"
   ]
  },
  {
   "cell_type": "markdown",
   "metadata": {},
   "source": [
    "Respondents who were not involved in writing funding proposals were dropped: leaving 280 responses on which to conduct the analysis.\n",
    "\n",
    "Just over a half of respondents did not expect to write software in their research, which is in conflict with the response to the early question which found that 67% of researchers developed their own software. Around a quarter of researchers had included costs for software development in their bids, but interestingly around a fifth of researchers expected to develop software but had not included costs for doing so in their bids. This is likely caused by the expectation that postgraduate students and postdoctoral researchers will pick up any software development that is required (although it may also be due to the incorrect belief that research funders do not look kindly on software development costs in research bids). Regardless of the cause, it cannot be good practice to expect work to be completed that has not been budgeted for. Furthermore, this result shows that a review of bids won by University researchers will underestimate the amount of software development occuring at the University by around a half."
   ]
  },
  {
   "cell_type": "markdown",
   "metadata": {},
   "source": [
    "![caption](charts/hired_developer.png)"
   ]
  },
  {
   "cell_type": "markdown",
   "metadata": {},
   "source": [
    "With almost half of researchers at the University expecting to develop software for their research, it seems reasonable to expect a significant number of them to have hired a software expert. However, only 19% of researchers have hired someone specifically to develop software.\n",
    "\n",
    "This result indicates that the majority of software development is being conducted by people hired for skills in other areas - most likely postgraduate students and postdoctoral researchers as discussed above. There is an obvious problem of handing the responsibility for software development to people who are not trained to develop software."
   ]
  },
  {
   "cell_type": "markdown",
   "metadata": {},
   "source": [
    "# Preferred model for accessing software expertise"
   ]
  },
  {
   "cell_type": "markdown",
   "metadata": {},
   "source": [
    "There is significant demand for software engineering expertise at the University. We asked respondents for their preferred model for recruiting this expertise."
   ]
  },
  {
   "cell_type": "markdown",
   "metadata": {},
   "source": [
    "![caption](charts/hire_full_time_developer.png)"
   ]
  },
  {
   "cell_type": "markdown",
   "metadata": {},
   "source": [
    "Over two-thirds of researchers would find employing a full-time software developer unsuitable - most likely because they lack either the funds to hire a full-time developer or they do not generate enough software development work to keep one employed."
   ]
  },
  {
   "cell_type": "markdown",
   "metadata": {},
   "source": [
    "![caption](charts/hire_rse.png)"
   ]
  },
  {
   "cell_type": "markdown",
   "metadata": {},
   "source": [
    "The alternative option within the University of Southampton (and the other 27 UK universities with a Research Software Engineering group) is to hire a Research Software Engineer from an RSE Group. The researcher gains access to a range of professional software engineering expertise, but they do not need to concern themselves with recruitment and - importantly - they pay only for the time they need.\n",
    "\n",
    "Based on these benefits, it is unsurprising that over 80% researchers find this model for recruiting expertise either suitable or perfect."
   ]
  },
  {
   "cell_type": "markdown",
   "metadata": {},
   "source": [
    "# References"
   ]
  },
  {
   "cell_type": "markdown",
   "metadata": {},
   "source": [
    "1. National software survey:  \"S.J. Hettrick, et al, UK Research Software Survey 2014\", DOI:10.5281/zenodo.1183562.\n",
    "1. https://rsg.soton.ac.uk\n",
    "1. Github repository for this project: https://github.com/Southampton-RSG/soton_software_survey_analysis_2019"
   ]
  },
  {
   "cell_type": "markdown",
   "metadata": {},
   "source": [
    "# Appendices "
   ]
  },
  {
   "cell_type": "markdown",
   "metadata": {},
   "source": [
    "We collected information on the number of responses to each question and asked further questions in the survey to understand the demographics of the respondents, their use of HPC and their rating for software support."
   ]
  },
  {
   "cell_type": "markdown",
   "metadata": {},
   "source": [
    "## Appendix A"
   ]
  },
  {
   "cell_type": "markdown",
   "metadata": {},
   "source": [
    "Number of responses to each question:"
   ]
  },
  {
   "cell_type": "markdown",
   "metadata": {},
   "source": [
    "![caption](charts/responses.png)"
   ]
  },
  {
   "cell_type": "markdown",
   "metadata": {},
   "source": [
    "## Appendix B"
   ]
  },
  {
   "cell_type": "markdown",
   "metadata": {},
   "source": [
    "Origin of research funding of respondents:"
   ]
  },
  {
   "cell_type": "markdown",
   "metadata": {},
   "source": [
    "![caption](charts/funders.png)"
   ]
  },
  {
   "cell_type": "markdown",
   "metadata": {},
   "source": [
    "## Appendix C"
   ]
  },
  {
   "cell_type": "markdown",
   "metadata": {},
   "source": [
    "Cleaned job title of respondents:"
   ]
  },
  {
   "cell_type": "markdown",
   "metadata": {},
   "source": [
    "![caption](charts/job_title.png)"
   ]
  },
  {
   "cell_type": "markdown",
   "metadata": {},
   "source": [
    "## Appendix D"
   ]
  },
  {
   "cell_type": "markdown",
   "metadata": {},
   "source": [
    "We investigated whether researchers who develop software had ever used the University's HPC system: "
   ]
  },
  {
   "cell_type": "markdown",
   "metadata": {},
   "source": [
    "![caption](charts/hpc_use.png)"
   ]
  },
  {
   "cell_type": "markdown",
   "metadata": {},
   "source": [
    "## Appendix E"
   ]
  },
  {
   "cell_type": "markdown",
   "metadata": {},
   "source": [
    "We investigated how researchers who develop software felt about the University's current level of support for software development:"
   ]
  },
  {
   "cell_type": "markdown",
   "metadata": {},
   "source": [
    "![caption](charts/current_support.png)"
   ]
  }
 ],
 "metadata": {
  "kernelspec": {
   "display_name": "Python 3",
   "language": "python",
   "name": "python3"
  },
  "language_info": {
   "codemirror_mode": {
    "name": "ipython",
    "version": 3
   },
   "file_extension": ".py",
   "mimetype": "text/x-python",
   "name": "python",
   "nbconvert_exporter": "python",
   "pygments_lexer": "ipython3",
   "version": "3.5.2"
  }
 },
 "nbformat": 4,
 "nbformat_minor": 2
}
