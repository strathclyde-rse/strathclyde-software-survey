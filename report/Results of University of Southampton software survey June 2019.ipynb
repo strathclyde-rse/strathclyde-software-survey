{
 "cells": [
  {
   "cell_type": "markdown",
   "metadata": {},
   "source": [
    "# Introduction"
   ]
  },
  {
   "cell_type": "markdown",
   "metadata": {},
   "source": [
    "According to a 2014 study, around 92% of UK researchers use software and 69% report that software is fundamental to their research. In 2019, the Southampton Research Software Group conducted a survey of all research staff. The results of this survey show that research software is near ubiquitous at the University of Southampton, that it is judged as vital to research and that the current provision for supporting software engineering could be considerably improved.\n",
    "\n",
    "## Methodology\n",
    "\n",
    "The survey was sent to all research staff. In practice this meant sending an email invitation to the mailing lists for all staff employed on an ERE (Education, Research and Enterprise) contract and for all PhD students. The emails were sent on a faculty-by-faculty basis with the following response rate."
   ]
  },
  {
   "cell_type": "markdown",
   "metadata": {},
   "source": [
    "![caption](charts/faculty_normalised.png)"
   ]
  },
  {
   "cell_type": "markdown",
   "metadata": {},
   "source": [
    "The survey asked 16 questions about the researcher and their use of software. A pdf of the survey is available in the  Github repository for the project (see references at end). This report provides a brief overview of the results."
   ]
  },
  {
   "cell_type": "markdown",
   "metadata": {},
   "source": [
    "# Results"
   ]
  },
  {
   "cell_type": "markdown",
   "metadata": {},
   "source": [
    "## Question: do you use research software?"
   ]
  },
  {
   "cell_type": "markdown",
   "metadata": {},
   "source": [
    "![caption](charts/use_software.png)"
   ]
  },
  {
   "cell_type": "markdown",
   "metadata": {},
   "source": [
    "In this question research software was defined:\n",
    "\n",
    ">\"any software you have used in the generation of a result that you expect to appear in a publication. This might be anything from a few-line script to clean some data, to a fully fledged software suite. It includes code you have written yourself and code written by someone else.\"\n",
    "\n",
    "The first thing to note is that almost all researchers at the University use software. "
   ]
  },
  {
   "cell_type": "markdown",
   "metadata": {},
   "source": [
    "# References"
   ]
  },
  {
   "cell_type": "markdown",
   "metadata": {},
   "source": [
    "1. Github repository for this project: https://github.com/Southampton-RSG/soton_software_survey_analysis_2019\n",
    "1. National software survey:"
   ]
  },
  {
   "cell_type": "code",
   "execution_count": null,
   "metadata": {},
   "outputs": [],
   "source": []
  }
 ],
 "metadata": {
  "kernelspec": {
   "display_name": "Python 3",
   "language": "python",
   "name": "python3"
  },
  "language_info": {
   "codemirror_mode": {
    "name": "ipython",
    "version": 3
   },
   "file_extension": ".py",
   "mimetype": "text/x-python",
   "name": "python",
   "nbconvert_exporter": "python",
   "pygments_lexer": "ipython3",
   "version": "3.5.2"
  }
 },
 "nbformat": 4,
 "nbformat_minor": 2
}
