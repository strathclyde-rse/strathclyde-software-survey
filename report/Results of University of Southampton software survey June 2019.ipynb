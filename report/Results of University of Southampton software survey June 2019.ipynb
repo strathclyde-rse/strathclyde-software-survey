{
 "cells": [
  {
   "cell_type": "markdown",
   "metadata": {},
   "source": [
    "# Introduction"
   ]
  },
  {
   "cell_type": "markdown",
   "metadata": {},
   "source": [
    "According to a 2014 study, around 92% of UK researchers use software and 69% report that software is fundamental to their research. In 2019, the Southampton Research Software Group conducted a survey of all research staff. The results of this survey show that research software is near ubiquitous at the University of Southampton, that it is judged as vital to research and that the current provision for supporting software engineering could be considerably improved.\n",
    "\n",
    "## Methodology\n",
    "\n",
    "The survey was sent to all research staff. In practice this meant sending an email invitation to the mailing lists for all staff employed on an ERE (Education, Research and Enterprise) contract and for all PhD students. The emails were sent on a faculty-by-faculty basis with the following response rate."
   ]
  },
  {
   "cell_type": "markdown",
   "metadata": {},
   "source": [
    "![caption](charts/faculty_normalised.png)"
   ]
  },
  {
   "cell_type": "markdown",
   "metadata": {},
   "source": [
    "The survey asked 16 questions about the researcher and their use of software. This report provides a brief overview of the results."
   ]
  },
  {
   "cell_type": "markdown",
   "metadata": {},
   "source": [
    "## Verification and reproducibility"
   ]
  },
  {
   "cell_type": "markdown",
   "metadata": {},
   "source": [
    "All resources related to this survey are stored on Github:\n",
    "\n",
    "1. A pdf of the original survey\n",
    "1. The anonymised data collected by the survey\n",
    "1. The code used to analyse the software\n",
    "1. This report on the results of the analysis\n",
    "\n",
    "The above have been published under an open licence (BSD 3-clause for the code, CC by attribution for the data).\n",
    "\n",
    "The repository can be found here: https://github.com/Southampton-RSG/soton_software_survey_analysis_2019"
   ]
  },
  {
   "cell_type": "markdown",
   "metadata": {},
   "source": [
    "# Results"
   ]
  },
  {
   "cell_type": "markdown",
   "metadata": {},
   "source": [
    "## Question: do you use research software?"
   ]
  },
  {
   "cell_type": "markdown",
   "metadata": {},
   "source": [
    "![caption](charts/use_software.png)"
   ]
  },
  {
   "cell_type": "markdown",
   "metadata": {},
   "source": [
    "In this question research software was defined:\n",
    "\n",
    ">\"any software you have used in the generation of a result that you expect to appear in a publication. This might be anything from a few-line script to clean some data, to a fully fledged software suite. It includes code you have written yourself and code written by someone else.\"\n",
    "\n",
    "Almost all researchers at the University use software. Only 5% report that they do not use software, but even this small number seems too large when one consider the ubiquity of software in research. More insight is provided if we segment the data across faculties."
   ]
  },
  {
   "cell_type": "markdown",
   "metadata": {},
   "source": [
    "![caption](charts/summary_of_1_use_software_faculty.png)"
   ]
  },
  {
   "cell_type": "markdown",
   "metadata": {},
   "source": [
    "In Medicine, Environmental & Life Sciences, and Engineering & Physical Sciences, the use of software is near 100%. Software use drops slightly in Social Sciences, but it is still above 90%. In Arts and Humanities only 67% report using software in their research, which is understandable in this discipline, although it should be noted that humanities researchers rely heavily on software. The mean percentage of researchers who use software in their research across the university neglecting the contribution from Arts & Humanities is 97%."
   ]
  },
  {
   "cell_type": "markdown",
   "metadata": {},
   "source": [
    "## Question: how important is software to your research?"
   ]
  },
  {
   "cell_type": "markdown",
   "metadata": {},
   "source": [
    "Use of software indicates importance, but to investigate this issue further we asked researchers to rate how important their research software was to their research. A rating of 1 was described as \"not at all\" important and a 5 was described \"vital\"."
   ]
  },
  {
   "cell_type": "markdown",
   "metadata": {},
   "source": [
    "![caption](charts/importance_software.png)"
   ]
  },
  {
   "cell_type": "markdown",
   "metadata": {},
   "source": [
    "It is clear that software is of fundamental importance to the research conducted at the University of Southampton. In total, 95% of researchers use software and 73% state that it is vital to their research."
   ]
  },
  {
   "cell_type": "markdown",
   "metadata": {},
   "source": [
    "## Question: have you developed your own research software? "
   ]
  },
  {
   "cell_type": "markdown",
   "metadata": {},
   "source": [
    "![caption](charts/develop_own_code.png)"
   ]
  },
  {
   "cell_type": "markdown",
   "metadata": {},
   "source": [
    "Software development should be encouraged because it allows researchers to save time, reduce errors and conduct research at scales that are simply not possible with off-the-shelf software. For this reason, it is heartening that a third of Southampton researchers develop their own code. It is illuminating to convert this percentage back into numbers of people. There are 198 respondents who develop their own code and 396 who do not.\n",
    "\n",
    "An increasing variety of software is accoma oftware development significantly increases the variety of software being used by the research population. This variety negates the conventional approach to supporting software - training a handful of experts in specific packages - and instead requires access to experts in sofware engineering.\n",
    "\n",
    "We investigated how software development varied across faculties:\n"
   ]
  },
  {
   "cell_type": "markdown",
   "metadata": {},
   "source": [
    "![caption](charts/summary_of_1_develop_own_code_faculty.png)"
   ]
  },
  {
   "cell_type": "markdown",
   "metadata": {},
   "source": [
    "Although Engineering & Physical Sciences, Environmental & Life Sciences, Medicine and Social Sciences report similar levels of software use, researchers within Engineering & Physical Sciences are far more likely - over double - to write their own code. There lies a significant opportunity in this result: if researchers within the remaining faculties could be helped to write their own code, they could create a resource with the capacity to significantly advance their research. "
   ]
  },
  {
   "cell_type": "markdown",
   "metadata": {},
   "source": [
    "# References"
   ]
  },
  {
   "cell_type": "markdown",
   "metadata": {},
   "source": [
    "1. Github repository for this project: https://github.com/Southampton-RSG/soton_software_survey_analysis_2019\n",
    "1. National software survey:"
   ]
  },
  {
   "cell_type": "code",
   "execution_count": null,
   "metadata": {},
   "outputs": [],
   "source": []
  }
 ],
 "metadata": {
  "kernelspec": {
   "display_name": "Python 3",
   "language": "python",
   "name": "python3"
  },
  "language_info": {
   "codemirror_mode": {
    "name": "ipython",
    "version": 3
   },
   "file_extension": ".py",
   "mimetype": "text/x-python",
   "name": "python",
   "nbconvert_exporter": "python",
   "pygments_lexer": "ipython3",
   "version": "3.5.2"
  }
 },
 "nbformat": 4,
 "nbformat_minor": 2
}
