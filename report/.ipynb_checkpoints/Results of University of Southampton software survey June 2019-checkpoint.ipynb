{
 "cells": [
  {
   "cell_type": "markdown",
   "metadata": {},
   "source": [
    "# Introduction"
   ]
  },
  {
   "cell_type": "markdown",
   "metadata": {},
   "source": [
    "According to a 2014 study, around 92% of UK researchers use software and 69% report that software is fundamental to their research. In 2019, the Southampton Research Software Group conducted a survey of all research staff. The results of this survey show that research software is near ubiquitous at the University of Southampton, that it is judged as vital to research and that the current provision for supporting software engineering could be considerably improved.\n",
    "\n",
    "## Methodology\n",
    "\n",
    "The survey was sent to all research staff. In practice this meant sending an email invitation to the mailing lists for all staff employed on an ERE (Education, Research and Enterprise) contract and for all PhD students. The emails were sent on a faculty-by-faculty basis with the following response rate."
   ]
  },
  {
   "cell_type": "markdown",
   "metadata": {},
   "source": [
    "![caption](charts/faculty_normalised.png)"
   ]
  },
  {
   "cell_type": "markdown",
   "metadata": {},
   "source": [
    "The survey asked 16 questions about the researcher and their use of software. A pdf of the survey is available in the  Github repository for the project (see references at end). This report provides a brief overview of the results."
   ]
  },
  {
   "cell_type": "markdown",
   "metadata": {},
   "source": [
    "# Results"
   ]
  },
  {
   "cell_type": "markdown",
   "metadata": {},
   "source": [
    "## Question: do you use research software?"
   ]
  },
  {
   "cell_type": "markdown",
   "metadata": {},
   "source": [
    "![caption](charts/use_software.png)"
   ]
  },
  {
   "cell_type": "markdown",
   "metadata": {},
   "source": [
    "In this question research software was defined:\n",
    "\n",
    ">\"any software you have used in the generation of a result that you expect to appear in a publication. This might be anything from a few-line script to clean some data, to a fully fledged software suite. It includes code you have written yourself and code written by someone else.\"\n",
    "\n",
    "Almost all researchers at the University use software. Only 5% report that they do not use software, but even this small number seems too large. More insight is available if we segment the data across the faculties."
   ]
  },
  {
   "cell_type": "markdown",
   "metadata": {},
   "source": [
    "![caption](charts/summary_of_1_use_software_faculty.png)"
   ]
  },
  {
   "cell_type": "markdown",
   "metadata": {},
   "source": [
    "In Medicine, Environmental and Life Sciences, and Engineering and Physical Sciences, the use of software is almost ubiquitous. Software use drops slightly in Social Sciences, but it is still above 90%. In Arts and Humanities, only 67% of researchers report using research software, and this accounts for the majority of the 5% of researchers who do not use software when looking at software use across the entire university."
   ]
  },
  {
   "cell_type": "markdown",
   "metadata": {},
   "source": [
    "## Question: how important is software to your research?"
   ]
  },
  {
   "cell_type": "markdown",
   "metadata": {},
   "source": [
    "Researchers were asked to rate how important software was to their research, with a rating of 1 being \"not at all\" important and 5 being \"vital\"."
   ]
  },
  {
   "cell_type": "markdown",
   "metadata": {},
   "source": [
    "![caption](charts/importance_software.png)"
   ]
  },
  {
   "cell_type": "code",
   "execution_count": null,
   "metadata": {},
   "outputs": [],
   "source": [
    "The results are..."
   ]
  },
  {
   "cell_type": "markdown",
   "metadata": {},
   "source": [
    "# References"
   ]
  },
  {
   "cell_type": "markdown",
   "metadata": {},
   "source": [
    "1. Github repository for this project: https://github.com/Southampton-RSG/soton_software_survey_analysis_2019\n",
    "1. National software survey:"
   ]
  },
  {
   "cell_type": "code",
   "execution_count": null,
   "metadata": {},
   "outputs": [],
   "source": []
  }
 ],
 "metadata": {
  "kernelspec": {
   "display_name": "Python 3",
   "language": "python",
   "name": "python3"
  },
  "language_info": {
   "codemirror_mode": {
    "name": "ipython",
    "version": 3
   },
   "file_extension": ".py",
   "mimetype": "text/x-python",
   "name": "python",
   "nbconvert_exporter": "python",
   "pygments_lexer": "ipython3",
   "version": "3.7.3"
  }
 },
 "nbformat": 4,
 "nbformat_minor": 2
}
