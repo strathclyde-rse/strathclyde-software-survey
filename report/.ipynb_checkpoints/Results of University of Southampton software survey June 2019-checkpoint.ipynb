{
 "cells": [
  {
   "cell_type": "markdown",
   "metadata": {},
   "source": [
    "# Introduction"
   ]
  },
  {
   "cell_type": "markdown",
   "metadata": {},
   "source": [
    "Without software, most modern research would not be possible. It is the enabling technology behind major advances, from decoding the human genome to the discovery of the Higgs boson, it lies at the heart of strategically important technologies, such as artificial intelligence, and it is a tool of constant use and fundamental importance in day-to-day research. Despite its pivotal role, support for software and software skills has not kept pace with the staggering speed of the digital revolution. This creates a major barrier that prevents the full potential and value of software from being exploited.\n",
    "\n",
    "A 2014 study found that 92% of UK researchers use software and 69% report that it is fundamental to their research. The near ubiquity of software in research means that it is not possible to disentangle the quality of the software from the quality of the research. Unreliable and untested software leads to unreliable results that cannot be trusted. Trust cannot be established in poorly engineered software because it is too difficult to understand whether the code is reliable. Without trust, researchers will not build on existing software and will instead recreate it themselves: an avoidable duplication of effort and a waste of funding.\n",
    "\n",
    "In 2019, the Southampton Research Software Group conducted a survey of all research staff. The results of this survey show that research software is near ubiquitous at the University of Southampton, that it is considered vital to research and that the current provision for supporting software engineering could be considerably improved to benefit both research and enterprise.\n",
    "\n",
    "## Methodology\n",
    "\n",
    "The survey was sent to all research staff. In practice this meant sending an email invitation to the mailing lists for all staff employed on an ERE (Education, Research and Enterprise) contract and for all PhD students. The emails were sent on a faculty-by-faculty basis with the following response rate."
   ]
  },
  {
   "cell_type": "markdown",
   "metadata": {},
   "source": [
    "![caption](charts/faculty_normalised.png)"
   ]
  },
  {
   "cell_type": "markdown",
   "metadata": {},
   "source": [
    "In total the survey received 594 usable results that are included in this analysis (for further detail, the number of responses to each question are listed in Appendix B). It asked 16 questions about the researcher and their use of software. This report provides a brief overview of the results."
   ]
  },
  {
   "cell_type": "markdown",
   "metadata": {},
   "source": [
    "## Verification and reproducibility"
   ]
  },
  {
   "cell_type": "markdown",
   "metadata": {},
   "source": [
    "All resources related to this survey are stored on Github:\n",
    "\n",
    "1. A pdf of the original survey\n",
    "1. The anonymised data collected by the survey\n",
    "1. The code used to analyse the software\n",
    "1. This report on the results of the analysis\n",
    "\n",
    "The above have been published under an open licence (BSD 3-clause for the code, CC by attribution for the data).\n",
    "\n",
    "The repository can be found here: https://github.com/Southampton-RSG/soton_software_survey_analysis_2019"
   ]
  },
  {
   "cell_type": "markdown",
   "metadata": {},
   "source": [
    "# What is research software?"
   ]
  },
  {
   "cell_type": "markdown",
   "metadata": {},
   "source": [
    "\"Software\" is an umbrella term that disguises a huge amount of complexity and variance. The applications for software are equally complex, from innovations in algorithms to an online service, from the control of a genome sequencer to the analysis of electronic health records, and each is associated with its own particular development requirements. \n",
    "\n",
    "In this survey, we defined \"research software\" as:\n",
    "\n",
    ">\"any software you have used in the generation of a result that you expect to appear in a publication. This might be anything from a few-line script to clean some data, to a fully fledged software suite. It includes code you have written yourself and code written by someone else.\""
   ]
  },
  {
   "cell_type": "markdown",
   "metadata": {},
   "source": [
    "# The level of use and importance of software to Southampton researchers"
   ]
  },
  {
   "cell_type": "markdown",
   "metadata": {},
   "source": [
    "![caption](charts/use_software.png)"
   ]
  },
  {
   "cell_type": "markdown",
   "metadata": {},
   "source": [
    "Almost all researchers at the University use research software. Only 5% report that they do not use software, but even this small number seems too large when one consider the near ubiquity of software in research. More insight is gained if we segment the data across faculties."
   ]
  },
  {
   "cell_type": "markdown",
   "metadata": {},
   "source": [
    "![caption](charts/summary_of_1_use_software_faculty.png)"
   ]
  },
  {
   "cell_type": "markdown",
   "metadata": {},
   "source": [
    "In Medicine, Environmental & Life Sciences, and Engineering & Physical Sciences, the use of software is near 100%. Software use drops slightly in Social Sciences, but it is still above 90%. In Arts and Humanities only 67% report using software in their research, which is understandable in this discipline, although it should be noted that humanities researchers rely heavily on software. The mean percentage of researchers who use software in their research across the university neglecting the contribution from Arts & Humanities is 97%."
   ]
  },
  {
   "cell_type": "markdown",
   "metadata": {},
   "source": [
    "Use of software indicates its importance, but to investigate this issue further we asked researchers to rate how important their research software was to their research (in which a rating of 1 was \"not at all\" important and a 5 was \"vital\")."
   ]
  },
  {
   "cell_type": "markdown",
   "metadata": {},
   "source": [
    "![caption](charts/importance_software.png)"
   ]
  },
  {
   "cell_type": "markdown",
   "metadata": {},
   "source": [
    "Software is of fundamental importance to the research conducted at the University of Southampton: 95% of researchers use software and 73% state that it is vital to their research."
   ]
  },
  {
   "cell_type": "markdown",
   "metadata": {},
   "source": [
    "![caption](charts/develop_own_code.png)"
   ]
  },
  {
   "cell_type": "markdown",
   "metadata": {},
   "source": [
    "Research tends to create problems that cannot be solved with off-the-shelf software and instead requires the development of bespoke software, which explains why around a third of Southampton researchers develop their own software. The number of researchers who develop their own code varies widely across faculties.\n"
   ]
  },
  {
   "cell_type": "markdown",
   "metadata": {},
   "source": [
    "![caption](charts/summary_of_1_develop_own_code_faculty.png)"
   ]
  },
  {
   "cell_type": "markdown",
   "metadata": {},
   "source": [
    "Engineering & Physical Sciences, Environmental & Life Sciences, Medicine and Social Sciences report similar levels of *software use*, but researchers within Engineering & Physical Sciences are far more likely - over double - to write their own code. It seems unlikely that Engineering & Physical Sciences researchers are facing challenges that require significantly more bespoke software development than researchers from other faculties. There lies in this result a huge opportunity: if researchers from the faculties with high software use can be helped to write their own code, they could advance their research."
   ]
  },
  {
   "cell_type": "markdown",
   "metadata": {},
   "source": [
    "# Potential for commercialising software"
   ]
  },
  {
   "cell_type": "markdown",
   "metadata": {},
   "source": [
    "![caption](charts/want_to_commercialise.png)"
   ]
  },
  {
   "cell_type": "markdown",
   "metadata": {},
   "source": [
    "A third of respondents develop their own code, and a third of those are interested in commercialising their software. Extrapoloating this result over the University indicates that almost 700 people could have software that they would like to commercialise. With such a large number of potential codes to draw from, there would appear to be significant potential for commercialisation."
   ]
  },
  {
   "cell_type": "markdown",
   "metadata": {},
   "source": [
    "![caption](charts/ready_to_share.png)"
   ]
  },
  {
   "cell_type": "markdown",
   "metadata": {},
   "source": [
    "Only 25% of people who wish to commercialise their code would be happy to share it. This indicates that 75% of the opportunities to commercialise software developed at University relate to software that lacks robustness or is poorly engineered."
   ]
  },
  {
   "cell_type": "markdown",
   "metadata": {},
   "source": [
    "# Do researchers have the expertise they need?"
   ]
  },
  {
   "cell_type": "markdown",
   "metadata": {},
   "source": [
    "![caption](charts/development_expertise.png)"
   ]
  },
  {
   "cell_type": "markdown",
   "metadata": {},
   "source": [
    "Researchers were asked to judge their software development expertise on a scale from 1 (described as a \"beginner\") to 5 (described as a \"professional). The majority (35%) gave themselves 4 out of 5, and 15% described themselves as professional. Since judging expertise is subjective, we investigated further with questions on training and understanding of a few basic software-engineering techniques."
   ]
  },
  {
   "cell_type": "markdown",
   "metadata": {},
   "source": [
    "![caption](charts/training.png)"
   ]
  },
  {
   "cell_type": "markdown",
   "metadata": {},
   "source": [
    "Almost two-thirds of researchers who develop software do not believe that they have received the training needed to produce reliable software. The response to this question obviously raises doubts about the level of development expertise recorded in the previous question. It also raises the possibiliy that Southampton researchers use a lot of software and believe that it is vital to their research, but are using unreliable bespoke software.\n",
    "\n",
    "We asked questions about three of the most basic software-engineering techniques: version control, unit testing and continuous integration. It is not necessary to understand these concepts to understand the results. It is sufficient to understand that any software engineer would at least be confident about their ability with each of these techniques."
   ]
  },
  {
   "cell_type": "markdown",
   "metadata": {},
   "source": [
    "![caption](charts/version_control.png)"
   ]
  },
  {
   "cell_type": "markdown",
   "metadata": {},
   "source": [
    "![caption](charts/unit_testing.png)"
   ]
  },
  {
   "cell_type": "markdown",
   "metadata": {},
   "source": [
    "![caption](charts/continuous_integration.png)"
   ]
  },
  {
   "cell_type": "markdown",
   "metadata": {},
   "source": [
    "The above results indicate that, despite the reasonably high level of self-assessed software development expertise, a significant number of researchers do not possess basic software-engineering expertise. This is a major concern because good software engineering delivers reliable software, and reliable software delivers trustworthy research."
   ]
  },
  {
   "cell_type": "markdown",
   "metadata": {},
   "source": [
    "# Access to software engineering expertise"
   ]
  },
  {
   "cell_type": "markdown",
   "metadata": {},
   "source": [
    "It is simply not possible to become master of all the skills that are required in a modern research group. Researchers should be helped to acquire skills if they wish to and, most importantly, should have access to skilled personnel where they do not.\n",
    "\n",
    "We asked whether researchers had included costs for software development in their funding proposals and whether they had hired staff to develop software for them."
   ]
  },
  {
   "cell_type": "markdown",
   "metadata": {},
   "source": [
    "![caption](charts/funds_for_development.png)"
   ]
  },
  {
   "cell_type": "markdown",
   "metadata": {},
   "source": [
    "Respondents who were not invvolved in writing funding proposals were dropped: leaving 280 responses on which to conduct the analysis.\n",
    "\n",
    "Over a quarter of researchers had included costs for software development and just under a quarter had not. Of significant interest is that just over half of respondents had not included costs for software development despite expecting to write software as part of the bid. This is an important result. It indicates that researchers still believe that funders do not see software development as an acceptable cost on a funding proposal - a view that is demonstrably out of date. Secondly, it shows that a review of funding applications will underestimate the amount of software development occuring at the University by around half."
   ]
  },
  {
   "cell_type": "markdown",
   "metadata": {},
   "source": [
    "![caption](charts/hired_developer.png)"
   ]
  },
  {
   "cell_type": "markdown",
   "metadata": {},
   "source": [
    "# Use of high-performance computing"
   ]
  },
  {
   "cell_type": "markdown",
   "metadata": {},
   "source": [
    "![caption](charts/hpc_use.png)"
   ]
  },
  {
   "cell_type": "markdown",
   "metadata": {},
   "source": [
    "# Appendices "
   ]
  },
  {
   "cell_type": "markdown",
   "metadata": {},
   "source": [
    "## Appendix A"
   ]
  },
  {
   "cell_type": "markdown",
   "metadata": {},
   "source": [
    "Origin of research funding of respondents:"
   ]
  },
  {
   "cell_type": "markdown",
   "metadata": {},
   "source": [
    "![caption](charts/funders.png)"
   ]
  },
  {
   "cell_type": "markdown",
   "metadata": {},
   "source": [
    "## Appendix B"
   ]
  },
  {
   "cell_type": "markdown",
   "metadata": {},
   "source": [
    "Number of respondents to each question:"
   ]
  },
  {
   "cell_type": "markdown",
   "metadata": {},
   "source": [
    "![caption](charts/responses.png)"
   ]
  },
  {
   "cell_type": "markdown",
   "metadata": {},
   "source": [
    "## Appendix C"
   ]
  },
  {
   "cell_type": "markdown",
   "metadata": {},
   "source": [
    "Job title of respondents:"
   ]
  },
  {
   "cell_type": "markdown",
   "metadata": {},
   "source": [
    "![caption](charts/job_title.png)"
   ]
  },
  {
   "cell_type": "markdown",
   "metadata": {},
   "source": [
    "## Appendix D"
   ]
  },
  {
   "cell_type": "markdown",
   "metadata": {},
   "source": [
    "Raiting of current support for software:"
   ]
  },
  {
   "cell_type": "markdown",
   "metadata": {},
   "source": [
    "![caption](charts/current_support.png)"
   ]
  },
  {
   "cell_type": "markdown",
   "metadata": {},
   "source": [
    "# References"
   ]
  },
  {
   "cell_type": "markdown",
   "metadata": {},
   "source": [
    "1. Github repository for this project: https://github.com/Southampton-RSG/soton_software_survey_analysis_2019\n",
    "1. National software survey:"
   ]
  }
 ],
 "metadata": {
  "kernelspec": {
   "display_name": "Python 3",
   "language": "python",
   "name": "python3"
  },
  "language_info": {
   "codemirror_mode": {
    "name": "ipython",
    "version": 3
   },
   "file_extension": ".py",
   "mimetype": "text/x-python",
   "name": "python",
   "nbconvert_exporter": "python",
   "pygments_lexer": "ipython3",
   "version": "3.5.2"
  }
 },
 "nbformat": 4,
 "nbformat_minor": 2
}
